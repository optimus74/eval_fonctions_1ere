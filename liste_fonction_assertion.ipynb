{
 "cells": [
  {
   "cell_type": "markdown",
   "metadata": {},
   "source": [
    "# <center>Evaluation : listes et fonctions</center>\n",
    "## <center>durée conseillée : 1h30</center>"
   ]
  },
  {
   "cell_type": "markdown",
   "metadata": {},
   "source": [
    "## exercice 1  \n",
    "### 1)\tCréer  une fonction `sélectionner_max_dans_liste(L)` qui :  \n",
    "- prend en paramètre une liste de nombres\n",
    "- renvoie le maximum\n",
    "\n",
    "exemple :  \n",
    "`sélectionner_max_dans_liste([5,10,7,3,1,0)` renvoie 10."
   ]
  },
  {
   "cell_type": "code",
   "execution_count": null,
   "metadata": {},
   "outputs": [],
   "source": []
  },
  {
   "cell_type": "markdown",
   "metadata": {},
   "source": [
    "### 2)\tModifier votre fonction pour obtenir `max_dans_liste_a_partir du_rang(L,j)` qui :\n",
    "- prend en paramètre :  \n",
    "---- une liste de nombres  \n",
    "---- un nombre entier j inférieur strictement à la longueur de la liste\n",
    "- renvoie le maximum dans la sous liste débutant au rang j\n",
    "\n",
    "exemples :  \n",
    "`max_dans_liste_a_partir du_rang([5,2,4,0,1],1)` renvoie 4 car 4 est le maximum de la liste si on la parcourt à partir du rang 1.  \n",
    "`max_dans_liste_a_partir du_rang([5,2,4,0,1],3)` renvoie 1 car 1 est le maximum de la liste si on la parcourt à partir du rang 3.  \n"
   ]
  },
  {
   "cell_type": "code",
   "execution_count": null,
   "metadata": {},
   "outputs": [],
   "source": []
  },
  {
   "cell_type": "markdown",
   "metadata": {},
   "source": [
    "## exercice 2\n",
    "### 1)\tEcrire une fonction, nommée `addition_listes`qui :\n",
    "- prend en paramètres deux listes de même longueur\n",
    "- effectue l’addition terme à terme des deux listes \n",
    "- renvoie la liste résultat obtenue  \n",
    "\n",
    "Exemple : \n",
    "`addition_listes([6,2,10],[1,3,1])` renvoie `[7,5,11]`  \n",
    "`addition_listes([6,2,10],[-6,-2,-10])` renvoie `[0,0,0]`  "
   ]
  },
  {
   "cell_type": "code",
   "execution_count": null,
   "metadata": {},
   "outputs": [],
   "source": []
  },
  {
   "cell_type": "markdown",
   "metadata": {},
   "source": [
    "### 2)\tAjouter, <span style='color:red;'>dans la fonction </span>, une assertion, pour contraindre l’utilisateur à saisir deux listes de même longueur."
   ]
  },
  {
   "cell_type": "code",
   "execution_count": null,
   "metadata": {},
   "outputs": [],
   "source": []
  },
  {
   "cell_type": "markdown",
   "metadata": {},
   "source": [
    "## exercice 3\n",
    "Une image bitmap en niveaux de gris est composée de pixels représentés chacun par un nombre entre 0 et 255.  \n",
    "Le 0 correspond à du noir, le 255 à du blanc, et chaque nombre intermédiaire correspond à une nuance de gris plus ou moins foncé.  \n",
    "Plus le gris est foncé, plus la valeur correspondante est faible. \n",
    "### 1) Associer à chaque image le tableau (matrice) correspondant : \n",
    "\n",
    "<center><img src='images/tableaux_matrices.png' alt='associer chaque tableau à sa matrice'></center>\n"
   ]
  },
  {
   "cell_type": "markdown",
   "metadata": {},
   "source": [
    "l'image A correspond à la matrice  \n",
    "\n",
    "B à   \n",
    "\n",
    "C à   \n",
    "\n",
    "D à  "
   ]
  },
  {
   "cell_type": "markdown",
   "metadata": {},
   "source": [
    "### 2) Ecrire l’instruction Python qui permet de stocker cette matrice dans une variable `matA`\n",
    "\n",
    "<center><img src='images/matA.png' alt='matrice A'></center>\n"
   ]
  },
  {
   "cell_type": "code",
   "execution_count": null,
   "metadata": {},
   "outputs": [],
   "source": []
  },
  {
   "cell_type": "markdown",
   "metadata": {},
   "source": [
    "### 3) Ecrire l’instruction Python qui permet de changer le nombre entouré <span style='color:red;'>(</span>63<span style='color:red;'>) </span> pour la valeur 192 qui est son complément à 255 (car 192 + 63 = 255)."
   ]
  },
  {
   "cell_type": "code",
   "execution_count": null,
   "metadata": {},
   "outputs": [],
   "source": []
  },
  {
   "cell_type": "markdown",
   "metadata": {},
   "source": [
    "### 4) Ecrire les intructions qui remplacent tous les nombres de la matrice A par leur complément à 255.\n",
    "Bien sûr, il est interdit de réassigner la variable matA.\n",
    "autrement dit : il est prescrit d'écrire matA=[ ..."
   ]
  },
  {
   "cell_type": "code",
   "execution_count": null,
   "metadata": {},
   "outputs": [],
   "source": []
  },
  {
   "cell_type": "markdown",
   "metadata": {},
   "source": [
    "### 5) Quel est l’effet visuel sur l’image ? "
   ]
  },
  {
   "cell_type": "markdown",
   "metadata": {},
   "source": [
    "écrire ici:"
   ]
  },
  {
   "cell_type": "markdown",
   "metadata": {},
   "source": [
    "### 6) Ecrire, cette fois, une fonction `complement(mat)` qui transforme une matrice `mat` quelconque donnée en paramètre en remplaçant tous les nombres qu’elle contient par leur complément à 255."
   ]
  },
  {
   "cell_type": "code",
   "execution_count": null,
   "metadata": {},
   "outputs": [],
   "source": []
  },
  {
   "cell_type": "markdown",
   "metadata": {},
   "source": [
    "# BONUS\n"
   ]
  },
  {
   "cell_type": "raw",
   "metadata": {},
   "source": [
    "écrire une fonction nommée rotation:\n",
    ". qui permet de tourner d'un quart de tour vers la droite une matrice rectangulaire.\n",
    ". entrée : une matrice rectangulaire\n",
    ". sortie : la matrice transformée\n",
    "\n",
    "exemple : \n",
    "A= [[1, 1, 1, 1],\n",
    "    [2, 2, 2, 2],\n",
    "    [3, 3, 3, 3]]\n",
    "\n",
    "rotation (A) renvoie :\n",
    "\n",
    "[[3, 2, 1],\n",
    " [3, 2, 1],\n",
    " [3, 2, 1],\n",
    " [3, 2, 1]]"
   ]
  }
 ],
 "metadata": {
  "kernelspec": {
   "display_name": "Python 3",
   "language": "python",
   "name": "python3"
  },
  "language_info": {
   "codemirror_mode": {
    "name": "ipython",
    "version": 3
   },
   "file_extension": ".py",
   "mimetype": "text/x-python",
   "name": "python",
   "nbconvert_exporter": "python",
   "pygments_lexer": "ipython3",
   "version": "3.7.3"
  }
 },
 "nbformat": 4,
 "nbformat_minor": 2
}
